{
 "cells": [
  {
   "cell_type": "code",
   "execution_count": 97,
   "id": "ebbaaf77",
   "metadata": {},
   "outputs": [],
   "source": [
    "#Importamos librerias\n",
    "import pandas as pd\n",
    "import matplotlib.pyplot as plt\n",
    "import seaborn as sns\n",
    "import numpy as np\n",
    "sns.set_theme()"
   ]
  },
  {
   "cell_type": "code",
   "execution_count": 98,
   "id": "cee31066",
   "metadata": {},
   "outputs": [],
   "source": [
    "df_edx = pd.read_csv(\"edx_courses.csv\")"
   ]
  },
  {
   "cell_type": "markdown",
   "id": "f9d0fffc",
   "metadata": {},
   "source": [
    "# Análisis exploratorio"
   ]
  },
  {
   "cell_type": "code",
   "execution_count": 99,
   "id": "2d5c3ec5",
   "metadata": {
    "scrolled": false
   },
   "outputs": [
    {
     "data": {
      "text/html": [
       "<div>\n",
       "<style scoped>\n",
       "    .dataframe tbody tr th:only-of-type {\n",
       "        vertical-align: middle;\n",
       "    }\n",
       "\n",
       "    .dataframe tbody tr th {\n",
       "        vertical-align: top;\n",
       "    }\n",
       "\n",
       "    .dataframe thead th {\n",
       "        text-align: right;\n",
       "    }\n",
       "</style>\n",
       "<table border=\"1\" class=\"dataframe\">\n",
       "  <thead>\n",
       "    <tr style=\"text-align: right;\">\n",
       "      <th></th>\n",
       "      <th>title</th>\n",
       "      <th>summary</th>\n",
       "      <th>n_enrolled</th>\n",
       "      <th>course_type</th>\n",
       "      <th>institution</th>\n",
       "      <th>instructors</th>\n",
       "      <th>Level</th>\n",
       "      <th>subject</th>\n",
       "      <th>language</th>\n",
       "      <th>subtitles</th>\n",
       "      <th>course_effort</th>\n",
       "      <th>course_length</th>\n",
       "      <th>price</th>\n",
       "      <th>course_description</th>\n",
       "      <th>course_syllabus</th>\n",
       "      <th>course_url</th>\n",
       "    </tr>\n",
       "  </thead>\n",
       "  <tbody>\n",
       "    <tr>\n",
       "      <th>0</th>\n",
       "      <td>How to Learn Online</td>\n",
       "      <td>Learn essential strategies for successful onli...</td>\n",
       "      <td>124,980</td>\n",
       "      <td>Self-paced on your time</td>\n",
       "      <td>edX</td>\n",
       "      <td>Nina Huntemann-Robyn Belair-Ben Piscopo</td>\n",
       "      <td>Introductory</td>\n",
       "      <td>Education &amp; Teacher Training</td>\n",
       "      <td>English</td>\n",
       "      <td>English</td>\n",
       "      <td>2–3 hours per week</td>\n",
       "      <td>2 Weeks</td>\n",
       "      <td>FREE-Add a Verified Certificate for $49 USD</td>\n",
       "      <td>Designed for those who are new to elearning, t...</td>\n",
       "      <td>Welcome - We start with opportunities to meet ...</td>\n",
       "      <td>https://www.edx.org/course/how-to-learn-online</td>\n",
       "    </tr>\n",
       "    <tr>\n",
       "      <th>1</th>\n",
       "      <td>Programming for Everybody (Getting Started wit...</td>\n",
       "      <td>This course is a \"no prerequisite\" introductio...</td>\n",
       "      <td>293,864</td>\n",
       "      <td>Self-paced on your time</td>\n",
       "      <td>The University of Michigan</td>\n",
       "      <td>Charles Severance</td>\n",
       "      <td>Introductory</td>\n",
       "      <td>Computer Science</td>\n",
       "      <td>English</td>\n",
       "      <td>English</td>\n",
       "      <td>2–4 hours per week</td>\n",
       "      <td>7 Weeks</td>\n",
       "      <td>FREE-Add a Verified Certificate for $49 USD</td>\n",
       "      <td>This course aims to teach everyone the basics ...</td>\n",
       "      <td>NaN</td>\n",
       "      <td>https://www.edx.org/course/programming-for-eve...</td>\n",
       "    </tr>\n",
       "    <tr>\n",
       "      <th>2</th>\n",
       "      <td>CS50's Introduction to Computer Science</td>\n",
       "      <td>An introduction to the intellectual enterprise...</td>\n",
       "      <td>2,442,271</td>\n",
       "      <td>Self-paced on your time</td>\n",
       "      <td>Harvard University</td>\n",
       "      <td>David J. Malan-Doug Lloyd-Brian Yu</td>\n",
       "      <td>Introductory</td>\n",
       "      <td>Computer Science</td>\n",
       "      <td>English</td>\n",
       "      <td>English</td>\n",
       "      <td>6–18 hours per week</td>\n",
       "      <td>12 Weeks</td>\n",
       "      <td>FREE-Add a Verified Certificate for $90 USD</td>\n",
       "      <td>This is CS50x , Harvard University's introduct...</td>\n",
       "      <td>NaN</td>\n",
       "      <td>https://www.edx.org/course/cs50s-introduction-...</td>\n",
       "    </tr>\n",
       "    <tr>\n",
       "      <th>3</th>\n",
       "      <td>The Analytics Edge</td>\n",
       "      <td>Through inspiring examples and stories, discov...</td>\n",
       "      <td>129,555</td>\n",
       "      <td>Instructor-led on a course schedule</td>\n",
       "      <td>Massachusetts Institute of Technology</td>\n",
       "      <td>Dimitris Bertsimas-Allison O'Hair-John Silberh...</td>\n",
       "      <td>Intermediate</td>\n",
       "      <td>Data Analysis &amp; Statistics</td>\n",
       "      <td>English</td>\n",
       "      <td>English</td>\n",
       "      <td>10–15 hours per week</td>\n",
       "      <td>13 Weeks</td>\n",
       "      <td>FREE-Add a Verified Certificate for $199 USD</td>\n",
       "      <td>In the last decade, the amount of data availab...</td>\n",
       "      <td>NaN</td>\n",
       "      <td>https://www.edx.org/course/the-analytics-edge</td>\n",
       "    </tr>\n",
       "    <tr>\n",
       "      <th>4</th>\n",
       "      <td>Marketing Analytics: Marketing Measurement Str...</td>\n",
       "      <td>This course is part of a MicroMasters® Program</td>\n",
       "      <td>81,140</td>\n",
       "      <td>Self-paced on your time</td>\n",
       "      <td>University of California, Berkeley</td>\n",
       "      <td>Stephan Sorger</td>\n",
       "      <td>Introductory</td>\n",
       "      <td>Computer Science</td>\n",
       "      <td>English</td>\n",
       "      <td>English</td>\n",
       "      <td>5–7 hours per week</td>\n",
       "      <td>4 Weeks</td>\n",
       "      <td>FREE-Add a Verified Certificate for $249 USD</td>\n",
       "      <td>Begin your journey in a new career in marketin...</td>\n",
       "      <td>NaN</td>\n",
       "      <td>https://www.edx.org/course/marketing-analytics...</td>\n",
       "    </tr>\n",
       "  </tbody>\n",
       "</table>\n",
       "</div>"
      ],
      "text/plain": [
       "                                               title  \\\n",
       "0                                How to Learn Online   \n",
       "1  Programming for Everybody (Getting Started wit...   \n",
       "2            CS50's Introduction to Computer Science   \n",
       "3                                 The Analytics Edge   \n",
       "4  Marketing Analytics: Marketing Measurement Str...   \n",
       "\n",
       "                                             summary n_enrolled  \\\n",
       "0  Learn essential strategies for successful onli...    124,980   \n",
       "1  This course is a \"no prerequisite\" introductio...    293,864   \n",
       "2  An introduction to the intellectual enterprise...  2,442,271   \n",
       "3  Through inspiring examples and stories, discov...    129,555   \n",
       "4     This course is part of a MicroMasters® Program     81,140   \n",
       "\n",
       "                           course_type                            institution  \\\n",
       "0              Self-paced on your time                                    edX   \n",
       "1              Self-paced on your time             The University of Michigan   \n",
       "2              Self-paced on your time                     Harvard University   \n",
       "3  Instructor-led on a course schedule  Massachusetts Institute of Technology   \n",
       "4              Self-paced on your time     University of California, Berkeley   \n",
       "\n",
       "                                         instructors         Level  \\\n",
       "0            Nina Huntemann-Robyn Belair-Ben Piscopo  Introductory   \n",
       "1                                  Charles Severance  Introductory   \n",
       "2                 David J. Malan-Doug Lloyd-Brian Yu  Introductory   \n",
       "3  Dimitris Bertsimas-Allison O'Hair-John Silberh...  Intermediate   \n",
       "4                                     Stephan Sorger  Introductory   \n",
       "\n",
       "                        subject language subtitles         course_effort  \\\n",
       "0  Education & Teacher Training  English   English    2–3 hours per week   \n",
       "1              Computer Science  English   English    2–4 hours per week   \n",
       "2              Computer Science  English   English   6–18 hours per week   \n",
       "3    Data Analysis & Statistics  English   English  10–15 hours per week   \n",
       "4              Computer Science  English   English    5–7 hours per week   \n",
       "\n",
       "  course_length                                         price  \\\n",
       "0       2 Weeks   FREE-Add a Verified Certificate for $49 USD   \n",
       "1       7 Weeks   FREE-Add a Verified Certificate for $49 USD   \n",
       "2      12 Weeks   FREE-Add a Verified Certificate for $90 USD   \n",
       "3      13 Weeks  FREE-Add a Verified Certificate for $199 USD   \n",
       "4       4 Weeks  FREE-Add a Verified Certificate for $249 USD   \n",
       "\n",
       "                                  course_description  \\\n",
       "0  Designed for those who are new to elearning, t...   \n",
       "1  This course aims to teach everyone the basics ...   \n",
       "2  This is CS50x , Harvard University's introduct...   \n",
       "3  In the last decade, the amount of data availab...   \n",
       "4  Begin your journey in a new career in marketin...   \n",
       "\n",
       "                                     course_syllabus  \\\n",
       "0  Welcome - We start with opportunities to meet ...   \n",
       "1                                                NaN   \n",
       "2                                                NaN   \n",
       "3                                                NaN   \n",
       "4                                                NaN   \n",
       "\n",
       "                                          course_url  \n",
       "0     https://www.edx.org/course/how-to-learn-online  \n",
       "1  https://www.edx.org/course/programming-for-eve...  \n",
       "2  https://www.edx.org/course/cs50s-introduction-...  \n",
       "3      https://www.edx.org/course/the-analytics-edge  \n",
       "4  https://www.edx.org/course/marketing-analytics...  "
      ]
     },
     "execution_count": 99,
     "metadata": {},
     "output_type": "execute_result"
    }
   ],
   "source": [
    "df_edx.head(5)"
   ]
  },
  {
   "cell_type": "code",
   "execution_count": 100,
   "id": "9619ac03",
   "metadata": {},
   "outputs": [
    {
     "name": "stdout",
     "output_type": "stream",
     "text": [
      "<class 'pandas.core.frame.DataFrame'>\n",
      "RangeIndex: 975 entries, 0 to 974\n",
      "Data columns (total 16 columns):\n",
      " #   Column              Non-Null Count  Dtype \n",
      "---  ------              --------------  ----- \n",
      " 0   title               975 non-null    object\n",
      " 1   summary             922 non-null    object\n",
      " 2   n_enrolled          855 non-null    object\n",
      " 3   course_type         975 non-null    object\n",
      " 4   institution         975 non-null    object\n",
      " 5   instructors         972 non-null    object\n",
      " 6   Level               975 non-null    object\n",
      " 7   subject             975 non-null    object\n",
      " 8   language            975 non-null    object\n",
      " 9   subtitles           972 non-null    object\n",
      " 10  course_effort       975 non-null    object\n",
      " 11  course_length       975 non-null    object\n",
      " 12  price               975 non-null    object\n",
      " 13  course_description  935 non-null    object\n",
      " 14  course_syllabus     414 non-null    object\n",
      " 15  course_url          975 non-null    object\n",
      "dtypes: object(16)\n",
      "memory usage: 122.0+ KB\n"
     ]
    }
   ],
   "source": [
    "df_edx.info()"
   ]
  },
  {
   "cell_type": "code",
   "execution_count": 101,
   "id": "91562ac3",
   "metadata": {},
   "outputs": [
    {
     "data": {
      "text/plain": [
       "title                   0\n",
       "summary                53\n",
       "n_enrolled            120\n",
       "course_type             0\n",
       "institution             0\n",
       "instructors             3\n",
       "Level                   0\n",
       "subject                 0\n",
       "language                0\n",
       "subtitles               3\n",
       "course_effort           0\n",
       "course_length           0\n",
       "price                   0\n",
       "course_description     40\n",
       "course_syllabus       561\n",
       "course_url              0\n",
       "dtype: int64"
      ]
     },
     "execution_count": 101,
     "metadata": {},
     "output_type": "execute_result"
    }
   ],
   "source": [
    "#Valores nulos\n",
    "df_edx.isna().sum()"
   ]
  },
  {
   "cell_type": "code",
   "execution_count": 102,
   "id": "1b93cb35",
   "metadata": {},
   "outputs": [
    {
     "data": {
      "text/plain": [
       "(975, 16)"
      ]
     },
     "execution_count": 102,
     "metadata": {},
     "output_type": "execute_result"
    }
   ],
   "source": [
    "#Filas y columnas\n",
    "df_edx.shape"
   ]
  },
  {
   "cell_type": "markdown",
   "id": "b16ea04f",
   "metadata": {},
   "source": [
    "### Cantidad de cursos de forma sincrónica y asincrónica"
   ]
  },
  {
   "cell_type": "code",
   "execution_count": 103,
   "id": "cd96b548",
   "metadata": {},
   "outputs": [
    {
     "data": {
      "text/plain": [
       "<Axes: xlabel='course_type', ylabel='count'>"
      ]
     },
     "execution_count": 103,
     "metadata": {},
     "output_type": "execute_result"
    },
    {
     "data": {
      "image/png": "[encoded data removed]",
      "text/plain": [
       "<Figure size 640x480 with 1 Axes>"
      ]
     },
     "metadata": {},
     "output_type": "display_data"
    }
   ],
   "source": [
    "sns.countplot(x=df_edx.course_type)"
   ]
  },
  {
   "cell_type": "code",
   "execution_count": 104,
   "id": "5ceb9032",
   "metadata": {},
   "outputs": [
    {
     "data": {
      "text/plain": [
       "course_type\n",
       "Self-paced on your time                0.940513\n",
       "Instructor-led on a course schedule    0.059487\n",
       "Name: proportion, dtype: float64"
      ]
     },
     "execution_count": 104,
     "metadata": {},
     "output_type": "execute_result"
    }
   ],
   "source": [
    "df_edx.course_type.value_counts(normalize=True)"
   ]
  },
  {
   "cell_type": "markdown",
   "id": "105828f0",
   "metadata": {},
   "source": [
    "Observación: El 94% de los cursos son de forma asincrónica"
   ]
  },
  {
   "cell_type": "markdown",
   "id": "93d02042",
   "metadata": {},
   "source": [
    "### Cantidad de cursos según nivel"
   ]
  },
  {
   "cell_type": "code",
   "execution_count": 105,
   "id": "6b5bd1e1",
   "metadata": {},
   "outputs": [
    {
     "data": {
      "text/plain": [
       "<Axes: xlabel='Level', ylabel='count'>"
      ]
     },
     "execution_count": 105,
     "metadata": {},
     "output_type": "execute_result"
    },
    {
     "data": {
      "image/png": "[encoded data removed]",
      "text/plain": [
       "<Figure size 640x480 with 1 Axes>"
      ]
     },
     "metadata": {},
     "output_type": "display_data"
    }
   ],
   "source": [
    "sns.countplot(x=df_edx[\"Level\"])"
   ]
  },
  {
   "cell_type": "code",
   "execution_count": 106,
   "id": "22a6877a",
   "metadata": {},
   "outputs": [
    {
     "data": {
      "text/plain": [
       "Level\n",
       "Introductory    0.636923\n",
       "Intermediate    0.273846\n",
       "Advanced        0.089231\n",
       "Name: proportion, dtype: float64"
      ]
     },
     "execution_count": 106,
     "metadata": {},
     "output_type": "execute_result"
    }
   ],
   "source": [
    "df_edx[\"Level\"].value_counts(normalize=True)"
   ]
  },
  {
   "cell_type": "markdown",
   "id": "1a8b6966",
   "metadata": {},
   "source": [
    "Observación: La mayoria de los cursos son introductorios (63%), los cursos intermedios conforman el 27% y los avanzados solamente el 8%"
   ]
  },
  {
   "cell_type": "markdown",
   "id": "81632428",
   "metadata": {},
   "source": [
    "### Cantidad de cursos según duración"
   ]
  },
  {
   "cell_type": "code",
   "execution_count": 107,
   "id": "1743d7cd",
   "metadata": {},
   "outputs": [
    {
     "name": "stderr",
     "output_type": "stream",
     "text": [
      "C:\\ProgramData\\anaconda3\\Lib\\site-packages\\seaborn\\axisgrid.py:118: UserWarning: The figure layout has changed to tight\n",
      "  self._figure.tight_layout(*args, **kwargs)\n"
     ]
    },
    {
     "data": {
      "text/plain": [
       "<seaborn.axisgrid.FacetGrid at 0x153dbac2b10>"
      ]
     },
     "execution_count": 107,
     "metadata": {},
     "output_type": "execute_result"
    },
    {
     "data": {
      "image/png": "[encoded data removed]",
      "text/plain": [
       "<Figure size 622.75x500 with 1 Axes>"
      ]
     },
     "metadata": {},
     "output_type": "display_data"
    }
   ],
   "source": [
    "sns.displot(x=df_edx[\"course_length\"], hue=df_edx[\"course_length\"])"
   ]
  },
  {
   "cell_type": "code",
   "execution_count": 108,
   "id": "5493953b",
   "metadata": {},
   "outputs": [
    {
     "data": {
      "text/plain": [
       "course_length\n",
       "4 Weeks     0.198974\n",
       "6 Weeks     0.191795\n",
       "5 Weeks     0.151795\n",
       "7 Weeks     0.094359\n",
       "8 Weeks     0.086154\n",
       "10 Weeks    0.085128\n",
       "12 Weeks    0.036923\n",
       "3 Weeks     0.035897\n",
       "2 Weeks     0.020513\n",
       "9 Weeks     0.020513\n",
       "15 Weeks    0.018462\n",
       "14 Weeks    0.017436\n",
       "16 Weeks    0.014359\n",
       "1 Weeks     0.008205\n",
       "11 Weeks    0.007179\n",
       "13 Weeks    0.007179\n",
       "18 Weeks    0.004103\n",
       "17 Weeks    0.001026\n",
       "Name: proportion, dtype: float64"
      ]
     },
     "execution_count": 108,
     "metadata": {},
     "output_type": "execute_result"
    }
   ],
   "source": [
    "df_edx[\"course_length\"].value_counts(normalize=True)"
   ]
  },
  {
   "cell_type": "markdown",
   "id": "8319094e",
   "metadata": {},
   "source": [
    "## Feature Engineering"
   ]
  },
  {
   "cell_type": "markdown",
   "id": "6233b694",
   "metadata": {},
   "source": [
    "#### **`\"n_enrolled\"`**\n",
    "\"n_enrolled\" = cantidad de inscriptos"
   ]
  },
  {
   "cell_type": "code",
   "execution_count": 109,
   "id": "9724c988",
   "metadata": {},
   "outputs": [
    {
     "name": "stdout",
     "output_type": "stream",
     "text": [
      "<class 'pandas.core.series.Series'>\n",
      "RangeIndex: 975 entries, 0 to 974\n",
      "Series name: n_enrolled\n",
      "Non-Null Count  Dtype \n",
      "--------------  ----- \n",
      "855 non-null    object\n",
      "dtypes: object(1)\n",
      "memory usage: 7.7+ KB\n"
     ]
    }
   ],
   "source": [
    "df_edx[\"n_enrolled\"].info()"
   ]
  },
  {
   "cell_type": "code",
   "execution_count": 110,
   "id": "1482ae9b",
   "metadata": {},
   "outputs": [
    {
     "data": {
      "text/plain": [
       "0        124,980\n",
       "1        293,864\n",
       "2      2,442,271\n",
       "3        129,555\n",
       "4         81,140\n",
       "         ...    \n",
       "970          NaN\n",
       "971          NaN\n",
       "972       11,246\n",
       "973        8,775\n",
       "974          NaN\n",
       "Name: n_enrolled, Length: 975, dtype: object"
      ]
     },
     "execution_count": 110,
     "metadata": {},
     "output_type": "execute_result"
    }
   ],
   "source": [
    "df_edx[\"n_enrolled\"]"
   ]
  },
  {
   "cell_type": "markdown",
   "id": "fc847996",
   "metadata": {},
   "source": [
    "Buscamos los valores nulos"
   ]
  },
  {
   "cell_type": "code",
   "execution_count": 111,
   "id": "18b2e102",
   "metadata": {},
   "outputs": [
    {
     "data": {
      "text/plain": [
       "n_enrolled\n",
       "False    855\n",
       "True     120\n",
       "Name: count, dtype: int64"
      ]
     },
     "execution_count": 111,
     "metadata": {},
     "output_type": "execute_result"
    }
   ],
   "source": [
    "df_edx[\"n_enrolled\"].isna().value_counts()"
   ]
  },
  {
   "cell_type": "code",
   "execution_count": 112,
   "id": "f49bce24",
   "metadata": {},
   "outputs": [],
   "source": [
    "#Quitamos la coma de los numeros\n",
    "df_edx[\"n_enrolled\"] = df_edx[\"n_enrolled\"].str.replace(\",\", \"\")"
   ]
  },
  {
   "cell_type": "code",
   "execution_count": 113,
   "id": "1bb5e55c",
   "metadata": {},
   "outputs": [],
   "source": [
    "#Cambiamos el tipo de dato de la columna\n",
    "df_edx[\"n_enrolled\"] = df_edx[\"n_enrolled\"].astype(\"Int64\")"
   ]
  },
  {
   "cell_type": "markdown",
   "id": "27149902",
   "metadata": {},
   "source": [
    "#### Así quedo la transformación"
   ]
  },
  {
   "cell_type": "code",
   "execution_count": 114,
   "id": "d1c38ba9",
   "metadata": {},
   "outputs": [
    {
     "data": {
      "text/plain": [
       "0       124980\n",
       "1       293864\n",
       "2      2442271\n",
       "3       129555\n",
       "4        81140\n",
       "        ...   \n",
       "970       <NA>\n",
       "971       <NA>\n",
       "972      11246\n",
       "973       8775\n",
       "974       <NA>\n",
       "Name: n_enrolled, Length: 975, dtype: Int64"
      ]
     },
     "execution_count": 114,
     "metadata": {},
     "output_type": "execute_result"
    }
   ],
   "source": [
    "df_edx[\"n_enrolled\"]"
   ]
  },
  {
   "cell_type": "markdown",
   "id": "84be7bb5",
   "metadata": {},
   "source": [
    "Ahora reemplazamos los valores nulos con el promedio"
   ]
  },
  {
   "cell_type": "code",
   "execution_count": 115,
   "id": "b60173aa",
   "metadata": {},
   "outputs": [
    {
     "data": {
      "text/plain": [
       "53260"
      ]
     },
     "execution_count": 115,
     "metadata": {},
     "output_type": "execute_result"
    }
   ],
   "source": [
    "#Promedio de inscriptos\n",
    "promedio = round(df_edx[\"n_enrolled\"].mean())\n",
    "promedio"
   ]
  },
  {
   "cell_type": "code",
   "execution_count": 116,
   "id": "9accdb83",
   "metadata": {},
   "outputs": [],
   "source": [
    "#Rellenamos los valores nulos con el promedio\n",
    "df_edx[\"n_enrolled\"] = df_edx[\"n_enrolled\"].fillna(promedio)"
   ]
  },
  {
   "cell_type": "code",
   "execution_count": 117,
   "id": "59334f89",
   "metadata": {},
   "outputs": [
    {
     "data": {
      "text/plain": [
       "0       124980\n",
       "1       293864\n",
       "2      2442271\n",
       "3       129555\n",
       "4        81140\n",
       "        ...   \n",
       "970      53260\n",
       "971      53260\n",
       "972      11246\n",
       "973       8775\n",
       "974      53260\n",
       "Name: n_enrolled, Length: 975, dtype: Int64"
      ]
     },
     "execution_count": 117,
     "metadata": {},
     "output_type": "execute_result"
    }
   ],
   "source": [
    "df_edx[\"n_enrolled\"]"
   ]
  },
  {
   "cell_type": "markdown",
   "id": "33a23264",
   "metadata": {},
   "source": [
    "#### **`\"course_length\"`**\n",
    "\"course_length\" = Duración del curso en semanas"
   ]
  },
  {
   "cell_type": "code",
   "execution_count": 118,
   "id": "70684334",
   "metadata": {},
   "outputs": [
    {
     "data": {
      "text/plain": [
       "0       2 Weeks\n",
       "1       7 Weeks\n",
       "2      12 Weeks\n",
       "3      13 Weeks\n",
       "4       4 Weeks\n",
       "         ...   \n",
       "970    10 Weeks\n",
       "971    12 Weeks\n",
       "972     6 Weeks\n",
       "973     1 Weeks\n",
       "974     4 Weeks\n",
       "Name: course_length, Length: 975, dtype: object"
      ]
     },
     "execution_count": 118,
     "metadata": {},
     "output_type": "execute_result"
    }
   ],
   "source": [
    "df_edx[\"course_length\"]"
   ]
  },
  {
   "cell_type": "markdown",
   "id": "b1091df2",
   "metadata": {},
   "source": [
    "No posee valores faltantes"
   ]
  },
  {
   "cell_type": "code",
   "execution_count": 119,
   "id": "afdd569a",
   "metadata": {},
   "outputs": [
    {
     "data": {
      "text/plain": [
       "course_length\n",
       "False    975\n",
       "Name: count, dtype: int64"
      ]
     },
     "execution_count": 119,
     "metadata": {},
     "output_type": "execute_result"
    }
   ],
   "source": [
    "df_edx[\"course_length\"].isna().value_counts()"
   ]
  },
  {
   "cell_type": "code",
   "execution_count": 120,
   "id": "85144290",
   "metadata": {},
   "outputs": [
    {
     "data": {
      "text/plain": [
       "course_length\n",
       "4 Weeks     194\n",
       "6 Weeks     187\n",
       "5 Weeks     148\n",
       "7 Weeks      92\n",
       "8 Weeks      84\n",
       "10 Weeks     83\n",
       "12 Weeks     36\n",
       "3 Weeks      35\n",
       "2 Weeks      20\n",
       "9 Weeks      20\n",
       "15 Weeks     18\n",
       "14 Weeks     17\n",
       "16 Weeks     14\n",
       "1 Weeks       8\n",
       "11 Weeks      7\n",
       "13 Weeks      7\n",
       "18 Weeks      4\n",
       "17 Weeks      1\n",
       "Name: count, dtype: int64"
      ]
     },
     "execution_count": 120,
     "metadata": {},
     "output_type": "execute_result"
    }
   ],
   "source": [
    "df_edx[\"course_length\"].value_counts()"
   ]
  },
  {
   "cell_type": "markdown",
   "id": "204078b4",
   "metadata": {},
   "source": [
    "***Transformación:*** Voy modificar el tipo de dato de \"Object\" a \"Int64\". Ya que todos los valores se refieren a semanas, voy a eliminar \"weeks\" y dejar únicamente el valor numérico ya que permite realizar funciones de agregación"
   ]
  },
  {
   "cell_type": "code",
   "execution_count": 121,
   "id": "ac8a04cb",
   "metadata": {},
   "outputs": [
    {
     "name": "stderr",
     "output_type": "stream",
     "text": [
      "C:\\Users\\Administrador\\AppData\\Local\\Temp\\ipykernel_19924\\3735932496.py:3: SettingWithCopyWarning: \n",
      "A value is trying to be set on a copy of a slice from a DataFrame\n",
      "\n",
      "See the caveats in the documentation: https://pandas.pydata.org/pandas-docs/stable/user_guide/indexing.html#returning-a-view-versus-a-copy\n",
      "  df_edx[\"course_length\"][i] = int(df_edx[\"course_length\"][i].split()[0])\n"
     ]
    }
   ],
   "source": [
    "#Aplicamos la transformación para cada registro\n",
    "for i in range(len(df_edx)):\n",
    "    df_edx[\"course_length\"][i] = int(df_edx[\"course_length\"][i].split()[0])"
   ]
  },
  {
   "cell_type": "code",
   "execution_count": 122,
   "id": "af23fdff",
   "metadata": {},
   "outputs": [],
   "source": [
    "#Cambiamos el tipo de dato de la columna\n",
    "df_edx[\"course_length\"] = df_edx[\"course_length\"].astype(\"Int64\")"
   ]
  },
  {
   "cell_type": "code",
   "execution_count": 123,
   "id": "d8145f30",
   "metadata": {},
   "outputs": [
    {
     "data": {
      "text/plain": [
       "course_length\n",
       "4     194\n",
       "6     187\n",
       "5     148\n",
       "7      92\n",
       "8      84\n",
       "10     83\n",
       "12     36\n",
       "3      35\n",
       "2      20\n",
       "9      20\n",
       "15     18\n",
       "14     17\n",
       "16     14\n",
       "1       8\n",
       "11      7\n",
       "13      7\n",
       "18      4\n",
       "17      1\n",
       "Name: count, dtype: Int64"
      ]
     },
     "execution_count": 123,
     "metadata": {},
     "output_type": "execute_result"
    }
   ],
   "source": [
    "df_edx[\"course_length\"].value_counts()"
   ]
  },
  {
   "cell_type": "markdown",
   "id": "b5f6023b",
   "metadata": {},
   "source": [
    "#### **`\"price\"`**\n",
    "\"price\" = precio del curso en USD"
   ]
  },
  {
   "cell_type": "code",
   "execution_count": 124,
   "id": "cfed9445",
   "metadata": {},
   "outputs": [
    {
     "data": {
      "text/plain": [
       "0       FREE-Add a Verified Certificate for $49 USD\n",
       "1       FREE-Add a Verified Certificate for $49 USD\n",
       "2       FREE-Add a Verified Certificate for $90 USD\n",
       "3      FREE-Add a Verified Certificate for $199 USD\n",
       "4      FREE-Add a Verified Certificate for $249 USD\n",
       "                           ...                     \n",
       "970     FREE-Add a Verified Certificate for $25 USD\n",
       "971    FREE-Add a Verified Certificate for $139 USD\n",
       "972    FREE-Add a Verified Certificate for $139 USD\n",
       "973     FREE-Add a Verified Certificate for $25 USD\n",
       "974     FREE-Add a Verified Certificate for $79 USD\n",
       "Name: price, Length: 975, dtype: object"
      ]
     },
     "execution_count": 124,
     "metadata": {},
     "output_type": "execute_result"
    }
   ],
   "source": [
    "df_edx[\"price\"]"
   ]
  },
  {
   "cell_type": "markdown",
   "id": "58d2ca6b",
   "metadata": {},
   "source": [
    "No posee valores faltantes"
   ]
  },
  {
   "cell_type": "code",
   "execution_count": 125,
   "id": "b325cc9c",
   "metadata": {},
   "outputs": [
    {
     "data": {
      "text/plain": [
       "price\n",
       "False    975\n",
       "Name: count, dtype: int64"
      ]
     },
     "execution_count": 125,
     "metadata": {},
     "output_type": "execute_result"
    }
   ],
   "source": [
    "df_edx[\"price\"].isna().value_counts()"
   ]
  },
  {
   "cell_type": "code",
   "execution_count": 126,
   "id": "8fae1711",
   "metadata": {},
   "outputs": [
    {
     "data": {
      "text/plain": [
       "price\n",
       "FREE-Add a Verified Certificate for $49 USD        270\n",
       "FREE-Add a Verified Certificate for $99 USD        137\n",
       "FREE-Add a Verified Certificate for $50 USD         96\n",
       "FREE-Add a Verified Certificate for $199 USD        85\n",
       "FREE-Add a Verified Certificate for $149 USD        78\n",
       "FREE-Add a Verified Certificate for $25 USD         49\n",
       "FREE-Add a Verified Certificate for $139 USD        33\n",
       "FREE-Add a Verified Certificate for $150 USD        30\n",
       "FREE-Add a Verified Certificate for $249 USD        26\n",
       "FREE-Add a Verified Certificate for $79 USD         21\n",
       "FREE-Add a Verified Certificate for $169 USD        19\n",
       "FREE-Add a Verified Certificate for $29 USD         15\n",
       "FREE-Add a Verified Certificate for $39 USD         13\n",
       "FREE-Add a Verified Certificate for $299 USD         9\n",
       "FREE-Add a Verified Certificate for $129 USD         9\n",
       "FREE-Add a Verified Certificate for $125 USD         8\n",
       "FREE-Add a Verified Certificate for $5 USD           7\n",
       "FREE-Add a Verified Certificate for $59 USD          7\n",
       "FREE-Add a Verified Certificate for $75 USD          5\n",
       "FREE-Add a Verified Certificate for $49.99 USD       4\n",
       "FREE-Add a Verified Certificate for $90 USD          4\n",
       "FREE-Add a Verified Certificate for $119 USD         3\n",
       "FREE-Add a Verified Certificate for $214 USD         3\n",
       "FREE-Add a Verified Certificate for $250 USD         3\n",
       "FREE-Add a Verified Certificate for $60 USD          3\n",
       "FREE-Add a Verified Certificate for $350 USD         3\n",
       "FREE-Add a Verified Certificate for $70 USD          3\n",
       "FREE-Add a Verified Certificate for $300 USD         3\n",
       "FREE-Add a Verified Certificate for $225 USD         3\n",
       "FREE-Add a Verified Certificate for $100 USD         3\n",
       "FREE-Add a Verified Certificate for $19 USD          2\n",
       "FREE-Add a Verified Certificate for $65 USD          2\n",
       "FREE-Add a Verified Certificate for $40 USD          2\n",
       "FREE-Add a Verified Certificate for $299.70 USD      2\n",
       "FREE-Add a Verified Certificate for $179 USD         2\n",
       "FREE-Add a Verified Certificate for $399 USD         2\n",
       "FREE-Add a Verified Certificate for $399.60 USD      1\n",
       "FREE-Add a Verified Certificate for $49.90 USD       1\n",
       "FREE-Add a Verified Certificate for $166 USD         1\n",
       "FREE-Add a Verified Certificate for $375 USD         1\n",
       "FREE-Add a Verified Certificate for $159 USD         1\n",
       "FREE-Add a Verified Certificate for $450 USD         1\n",
       "FREE-Add a Verified Certificate for $69 USD          1\n",
       "FREE-Add a Verified Certificate for $10 USD          1\n",
       "FREE-Add a Verified Certificate for $200 USD         1\n",
       "FREE-Add a Verified Certificate for $15 USD          1\n",
       "FREE-Add a Verified Certificate for $30 USD          1\n",
       "Name: count, dtype: int64"
      ]
     },
     "execution_count": 126,
     "metadata": {},
     "output_type": "execute_result"
    }
   ],
   "source": [
    "df_edx[\"price\"].value_counts()"
   ]
  },
  {
   "cell_type": "code",
   "execution_count": 127,
   "id": "93601472",
   "metadata": {},
   "outputs": [
    {
     "data": {
      "text/plain": [
       "975"
      ]
     },
     "execution_count": 127,
     "metadata": {},
     "output_type": "execute_result"
    }
   ],
   "source": [
    "df_edx[\"price\"].str.startswith(\"FREE\").count()"
   ]
  },
  {
   "cell_type": "markdown",
   "id": "9028de67",
   "metadata": {},
   "source": [
    "Verificamos que todos los cursos son gratuitos y que lo único que varía es el precio del certificado\n",
    "\n",
    "**Transformación:** Decido crear una columna llamada `\"certificate_price\"` que solamente contenga el precio de la certificación en USD"
   ]
  },
  {
   "cell_type": "code",
   "execution_count": 128,
   "id": "314da087",
   "metadata": {},
   "outputs": [],
   "source": [
    "#Creo la nueva columna y copio los registros de la columna price\n",
    "df_edx[\"certificate_price\"] = df_edx[\"price\"]"
   ]
  },
  {
   "cell_type": "code",
   "execution_count": 129,
   "id": "e3d616ea",
   "metadata": {},
   "outputs": [
    {
     "name": "stderr",
     "output_type": "stream",
     "text": [
      "C:\\Users\\Administrador\\AppData\\Local\\Temp\\ipykernel_19924\\1025084428.py:3: SettingWithCopyWarning: \n",
      "A value is trying to be set on a copy of a slice from a DataFrame\n",
      "\n",
      "See the caveats in the documentation: https://pandas.pydata.org/pandas-docs/stable/user_guide/indexing.html#returning-a-view-versus-a-copy\n",
      "  df_edx[\"certificate_price\"][i] = df_edx[\"certificate_price\"][i].split()[5][1:]\n"
     ]
    }
   ],
   "source": [
    "#Aplicamos la transformación\n",
    "for i in range(len(df_edx)):\n",
    "    df_edx[\"certificate_price\"][i] = df_edx[\"certificate_price\"][i].split()[5][1:]"
   ]
  },
  {
   "cell_type": "code",
   "execution_count": 130,
   "id": "cbd32e6e",
   "metadata": {},
   "outputs": [],
   "source": [
    "#Cambiamos el tipo de dato de la columna\n",
    "df_edx[\"certificate_price\"] = df_edx[\"certificate_price\"].astype(\"float64\")"
   ]
  },
  {
   "cell_type": "markdown",
   "id": "1be1a4a5",
   "metadata": {},
   "source": [
    "Verificamos que los cambios se hayan hecho bien"
   ]
  },
  {
   "cell_type": "code",
   "execution_count": 131,
   "id": "ca908b39",
   "metadata": {},
   "outputs": [
    {
     "data": {
      "text/plain": [
       "0       49.0\n",
       "1       49.0\n",
       "2       90.0\n",
       "3      199.0\n",
       "4      249.0\n",
       "       ...  \n",
       "970     25.0\n",
       "971    139.0\n",
       "972    139.0\n",
       "973     25.0\n",
       "974     79.0\n",
       "Name: certificate_price, Length: 975, dtype: float64"
      ]
     },
     "execution_count": 131,
     "metadata": {},
     "output_type": "execute_result"
    }
   ],
   "source": [
    "df_edx[\"certificate_price\"]"
   ]
  },
  {
   "cell_type": "code",
   "execution_count": 137,
   "id": "9e317cf6",
   "metadata": {},
   "outputs": [
    {
     "data": {
      "text/html": [
       "<div>\n",
       "<style scoped>\n",
       "    .dataframe tbody tr th:only-of-type {\n",
       "        vertical-align: middle;\n",
       "    }\n",
       "\n",
       "    .dataframe tbody tr th {\n",
       "        vertical-align: top;\n",
       "    }\n",
       "\n",
       "    .dataframe thead th {\n",
       "        text-align: right;\n",
       "    }\n",
       "</style>\n",
       "<table border=\"1\" class=\"dataframe\">\n",
       "  <thead>\n",
       "    <tr style=\"text-align: right;\">\n",
       "      <th></th>\n",
       "      <th>title</th>\n",
       "      <th>summary</th>\n",
       "      <th>n_enrolled</th>\n",
       "      <th>course_type</th>\n",
       "      <th>institution</th>\n",
       "      <th>instructors</th>\n",
       "      <th>Level</th>\n",
       "      <th>subject</th>\n",
       "      <th>language</th>\n",
       "      <th>subtitles</th>\n",
       "      <th>course_effort</th>\n",
       "      <th>course_length</th>\n",
       "      <th>price</th>\n",
       "      <th>course_description</th>\n",
       "      <th>course_syllabus</th>\n",
       "      <th>course_url</th>\n",
       "      <th>certificate_price</th>\n",
       "    </tr>\n",
       "  </thead>\n",
       "  <tbody>\n",
       "    <tr>\n",
       "      <th>0</th>\n",
       "      <td>How to Learn Online</td>\n",
       "      <td>Learn essential strategies for successful onli...</td>\n",
       "      <td>124980</td>\n",
       "      <td>Self-paced on your time</td>\n",
       "      <td>edX</td>\n",
       "      <td>Nina Huntemann-Robyn Belair-Ben Piscopo</td>\n",
       "      <td>Introductory</td>\n",
       "      <td>Education &amp; Teacher Training</td>\n",
       "      <td>English</td>\n",
       "      <td>English</td>\n",
       "      <td>2–3 hours per week</td>\n",
       "      <td>2</td>\n",
       "      <td>FREE-Add a Verified Certificate for $49 USD</td>\n",
       "      <td>Designed for those who are new to elearning, t...</td>\n",
       "      <td>Welcome - We start with opportunities to meet ...</td>\n",
       "      <td>https://www.edx.org/course/how-to-learn-online</td>\n",
       "      <td>49.0</td>\n",
       "    </tr>\n",
       "    <tr>\n",
       "      <th>1</th>\n",
       "      <td>Programming for Everybody (Getting Started wit...</td>\n",
       "      <td>This course is a \"no prerequisite\" introductio...</td>\n",
       "      <td>293864</td>\n",
       "      <td>Self-paced on your time</td>\n",
       "      <td>The University of Michigan</td>\n",
       "      <td>Charles Severance</td>\n",
       "      <td>Introductory</td>\n",
       "      <td>Computer Science</td>\n",
       "      <td>English</td>\n",
       "      <td>English</td>\n",
       "      <td>2–4 hours per week</td>\n",
       "      <td>7</td>\n",
       "      <td>FREE-Add a Verified Certificate for $49 USD</td>\n",
       "      <td>This course aims to teach everyone the basics ...</td>\n",
       "      <td>NaN</td>\n",
       "      <td>https://www.edx.org/course/programming-for-eve...</td>\n",
       "      <td>49.0</td>\n",
       "    </tr>\n",
       "  </tbody>\n",
       "</table>\n",
       "</div>"
      ],
      "text/plain": [
       "                                               title  \\\n",
       "0                                How to Learn Online   \n",
       "1  Programming for Everybody (Getting Started wit...   \n",
       "\n",
       "                                             summary  n_enrolled  \\\n",
       "0  Learn essential strategies for successful onli...      124980   \n",
       "1  This course is a \"no prerequisite\" introductio...      293864   \n",
       "\n",
       "               course_type                 institution  \\\n",
       "0  Self-paced on your time                         edX   \n",
       "1  Self-paced on your time  The University of Michigan   \n",
       "\n",
       "                               instructors         Level  \\\n",
       "0  Nina Huntemann-Robyn Belair-Ben Piscopo  Introductory   \n",
       "1                        Charles Severance  Introductory   \n",
       "\n",
       "                        subject language subtitles       course_effort  \\\n",
       "0  Education & Teacher Training  English   English  2–3 hours per week   \n",
       "1              Computer Science  English   English  2–4 hours per week   \n",
       "\n",
       "   course_length                                        price  \\\n",
       "0              2  FREE-Add a Verified Certificate for $49 USD   \n",
       "1              7  FREE-Add a Verified Certificate for $49 USD   \n",
       "\n",
       "                                  course_description  \\\n",
       "0  Designed for those who are new to elearning, t...   \n",
       "1  This course aims to teach everyone the basics ...   \n",
       "\n",
       "                                     course_syllabus  \\\n",
       "0  Welcome - We start with opportunities to meet ...   \n",
       "1                                                NaN   \n",
       "\n",
       "                                          course_url  certificate_price  \n",
       "0     https://www.edx.org/course/how-to-learn-online               49.0  \n",
       "1  https://www.edx.org/course/programming-for-eve...               49.0  "
      ]
     },
     "execution_count": 137,
     "metadata": {},
     "output_type": "execute_result"
    }
   ],
   "source": [
    "df_edx.head(2)"
   ]
  },
  {
   "cell_type": "code",
   "execution_count": 138,
   "id": "1d14a0b9",
   "metadata": {},
   "outputs": [],
   "source": [
    "df_edx[\"regular_price\"] = df_edx[\"price\"]"
   ]
  },
  {
   "cell_type": "code",
   "execution_count": null,
   "id": "ee2e6e91",
   "metadata": {},
   "outputs": [],
   "source": [
    "for i in range(len(df_edx)):\n",
    "    df_edx[\"regular_price\"][i] = df_edx[\"certificate_price\"][i].split()[5][1:]"
   ]
  }
 ],
 "metadata": {
  "kernelspec": {
   "display_name": "Python 3 (ipykernel)",
   "language": "python",
   "name": "python3"
  },
  "language_info": {
   "codemirror_mode": {
    "name": "ipython",
    "version": 3
   },
   "file_extension": ".py",
   "mimetype": "text/x-python",
   "name": "python",
   "nbconvert_exporter": "python",
   "pygments_lexer": "ipython3",
   "version": "3.11.5"
  }
 },
 "nbformat": 4,
 "nbformat_minor": 5
}
